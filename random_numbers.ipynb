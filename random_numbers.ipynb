{
 "cells": [
  {
   "cell_type": "code",
   "execution_count": 1,
   "id": "8e01776d-f70c-4efd-a8c9-8022274fc38a",
   "metadata": {},
   "outputs": [],
   "source": [
    "import random"
   ]
  },
  {
   "cell_type": "code",
   "execution_count": 2,
   "id": "0e5ec5f2-9884-419c-9701-246e197ffbd2",
   "metadata": {},
   "outputs": [
    {
     "data": {
      "text/plain": [
       "-64"
      ]
     },
     "execution_count": 2,
     "metadata": {},
     "output_type": "execute_result"
    }
   ],
   "source": [
    "random.randint(-90,90)"
   ]
  },
  {
   "cell_type": "code",
   "execution_count": 3,
   "id": "35c3d689-5c51-43c8-84d1-bab214dee7d6",
   "metadata": {},
   "outputs": [
    {
     "data": {
      "text/plain": [
       "0.6532719733724074"
      ]
     },
     "execution_count": 3,
     "metadata": {},
     "output_type": "execute_result"
    }
   ],
   "source": [
    "random.random()"
   ]
  },
  {
   "cell_type": "code",
   "execution_count": 4,
   "id": "5d444b9e-0219-45b4-b9e0-ff224319e82e",
   "metadata": {},
   "outputs": [
    {
     "name": "stdout",
     "output_type": "stream",
     "text": [
      "[[-54.22965995814807, 60.53358597654009, -81.76910265200517, -33.74964754713053, -12.081447220316678, 3.4286311799641163, 53.56563784339475, 47.003925399276184, 31.567500897751195, 69.04570977677048]]\n"
     ]
    }
   ],
   "source": [
    "x = 1\n",
    "latitudes = []\n",
    "while x < 11:\n",
    "    random_lat = random.randint(-90, 89) + random.random()\n",
    "    latitudes.append(random_lat)\n",
    "    x += 1\n",
    "print([latitudes])"
   ]
  },
  {
   "cell_type": "code",
   "execution_count": 5,
   "id": "07f42ce9-f0bc-4e09-ab49-7099cac76fd5",
   "metadata": {},
   "outputs": [],
   "source": [
    "import numpy as np"
   ]
  },
  {
   "cell_type": "code",
   "execution_count": 6,
   "id": "95a5b7d9-5b36-4e6a-b394-bac23ea2e575",
   "metadata": {},
   "outputs": [
    {
     "data": {
      "text/plain": [
       "-33.58732927451205"
      ]
     },
     "execution_count": 6,
     "metadata": {},
     "output_type": "execute_result"
    }
   ],
   "source": [
    "np.random.uniform(-90.000, 90.000)"
   ]
  },
  {
   "cell_type": "code",
   "execution_count": 7,
   "id": "17070b03-ba64-43b7-b8f9-f52443b7c5e5",
   "metadata": {},
   "outputs": [
    {
     "data": {
      "text/plain": [
       "array([-32.31936564, -33.44740745, -53.80192538,  42.66503257,\n",
       "        22.47520482, -48.79950888, -74.92572445,  78.76957664,\n",
       "       -49.40852787, -75.59028103,  32.86824407,  13.86568582,\n",
       "        13.75816417, -47.83710539,  30.64461101,  52.23966989,\n",
       "        -6.65366399,  -8.48587472, -34.44910946,  42.44808445,\n",
       "        83.50918389, -76.41814437,  53.09853241,  -7.49072679,\n",
       "         8.38158099,  50.20944329,  85.53670129,  18.61649524,\n",
       "        52.22114055,  65.9152684 ,  86.64926112,  37.22939369,\n",
       "        64.61295387, -53.54507838,  25.53663679, -36.60710437,\n",
       "       -66.87459378,   5.16676865,  17.37185112, -71.07427679,\n",
       "        44.974316  , -86.9264271 , -56.19962356,   9.31249252,\n",
       "       -29.49493681, -57.31903975,  58.04199325, -51.35040117,\n",
       "       -67.15287527, -22.28863135])"
      ]
     },
     "execution_count": 7,
     "metadata": {},
     "output_type": "execute_result"
    }
   ],
   "source": [
    "np.random.uniform(-90.000, 90.000, size=50)"
   ]
  },
  {
   "cell_type": "code",
   "execution_count": 8,
   "id": "ee909d73-6951-46c0-8eb6-6ff4f6d976d3",
   "metadata": {},
   "outputs": [],
   "source": [
    "import timeit"
   ]
  },
  {
   "cell_type": "code",
   "execution_count": 9,
   "id": "ad238b8c-3a1d-4fa2-89a7-3555c5a02de3",
   "metadata": {},
   "outputs": [
    {
     "name": "stdout",
     "output_type": "stream",
     "text": [
      "21.4 µs ± 1.56 µs per loop (mean ± std. dev. of 7 runs, 10000 loops each)\n"
     ]
    }
   ],
   "source": [
    "%timeit np.random.uniform(-90.000, 90.000, size=1500)"
   ]
  },
  {
   "cell_type": "code",
   "execution_count": 10,
   "id": "8334fc30-2249-4c49-bb0b-05c9ecd2e1c7",
   "metadata": {},
   "outputs": [
    {
     "name": "stdout",
     "output_type": "stream",
     "text": [
      "2.18 ms ± 406 µs per loop (mean ± std. dev. of 7 runs, 100 loops each)\n"
     ]
    }
   ],
   "source": [
    "def latitudes(size):\n",
    "    latitudes = []\n",
    "    x = 0\n",
    "    while x < (size):\n",
    "        random_lat = random.randint(-90, 90) + random.random()\n",
    "        latitudes.append(random_lat)\n",
    "        x += 1\n",
    "    return latitudes\n",
    "# Call the function with 1500.\n",
    "%timeit latitudes(1500)"
   ]
  },
  {
   "cell_type": "code",
   "execution_count": null,
   "id": "f6696ab3-200b-4d3a-b14d-c26cf53aef84",
   "metadata": {},
   "outputs": [],
   "source": []
  },
  {
   "cell_type": "code",
   "execution_count": null,
   "id": "2bbb84d2-64bb-48f4-8ee9-3407aacfdfeb",
   "metadata": {},
   "outputs": [],
   "source": []
  },
  {
   "cell_type": "code",
   "execution_count": null,
   "id": "cc60ca86-db47-437f-892c-a1f8dc8d07ff",
   "metadata": {},
   "outputs": [],
   "source": []
  }
 ],
 "metadata": {
  "kernelspec": {
   "display_name": "PythonData",
   "language": "python",
   "name": "pythondata"
  },
  "language_info": {
   "codemirror_mode": {
    "name": "ipython",
    "version": 3
   },
   "file_extension": ".py",
   "mimetype": "text/x-python",
   "name": "python",
   "nbconvert_exporter": "python",
   "pygments_lexer": "ipython3",
   "version": "3.8.8"
  }
 },
 "nbformat": 4,
 "nbformat_minor": 5
}
